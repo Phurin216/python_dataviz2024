{
  "nbformat": 4,
  "nbformat_minor": 0,
  "metadata": {
    "colab": {
      "provenance": [],
      "authorship_tag": "ABX9TyM7z/80cboE5CJCGNeXEd4m",
      "include_colab_link": true
    },
    "kernelspec": {
      "name": "python3",
      "display_name": "Python 3"
    },
    "language_info": {
      "name": "python"
    }
  },
  "cells": [
    {
      "cell_type": "markdown",
      "metadata": {
        "id": "view-in-github",
        "colab_type": "text"
      },
      "source": [
        "<a href=\"https://colab.research.google.com/github/Phurin216/python_dataviz2024/blob/main/My_first_python_notebook_.ipynb\" target=\"_parent\"><img src=\"https://colab.research.google.com/assets/colab-badge.svg\" alt=\"Open In Colab\"/></a>"
      ]
    },
    {
      "cell_type": "markdown",
      "source": [
        "Basic Programming For Data Science & Data Vizualization\n",
        "here we use **Markdown**"
      ],
      "metadata": {
        "id": "FIq3cWH8Re-V"
      }
    },
    {
      "cell_type": "code",
      "execution_count": 5,
      "metadata": {
        "colab": {
          "base_uri": "https://localhost:8080/"
        },
        "id": "LXI2Cr6RRMdR",
        "outputId": "82b238dd-186a-4ee5-8f4f-4554bb333d04"
      },
      "outputs": [
        {
          "output_type": "stream",
          "name": "stdout",
          "text": [
            "ภูรินท์ สายเชื้อ\n"
          ]
        }
      ],
      "source": [
        "print('ภูรินท์ สายเชื้อ')\n",
        "#การใช้Printเชื่อม()ไว้\n",
        "#และใช้ '' กำกับคำสั่งในวงเล็บ"
      ]
    },
    {
      "cell_type": "code",
      "source": [],
      "metadata": {
        "id": "43Ccg8ZYS9Fn"
      },
      "execution_count": null,
      "outputs": []
    }
  ]
}